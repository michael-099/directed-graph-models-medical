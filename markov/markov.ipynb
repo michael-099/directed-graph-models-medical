{
 "cells": [
  {
   "cell_type": "code",
   "execution_count": 1,
   "id": "b59e3fc5",
   "metadata": {},
   "outputs": [
    {
     "name": "stdout",
     "output_type": "stream",
     "text": [
      "Requirement already satisfied: pgmpy in c:\\users\\micha\\anaconda3\\envs\\medical_bayes\\lib\\site-packages (1.0.0)\n",
      "Note: you may need to restart the kernel to use updated packages.\n"
     ]
    }
   ],
   "source": [
    "pip install pgmpy\n"
   ]
  },
  {
   "cell_type": "code",
   "execution_count": null,
   "id": "531f5f95",
   "metadata": {},
   "outputs": [
    {
     "name": "stderr",
     "output_type": "stream",
     "text": [
      "c:\\Users\\micha\\anaconda3\\envs\\medical_bayes\\Lib\\site-packages\\tqdm\\auto.py:21: TqdmWarning: IProgress not found. Please update jupyter and ipywidgets. See https://ipywidgets.readthedocs.io/en/stable/user_install.html\n",
      "  from .autonotebook import tqdm as notebook_tqdm\n"
     ]
    }
   ],
   "source": [
    "from pgmpy.models import MarkovNetwork\n",
    "from pgmpy.factors.discrete import DiscreteFactor\n",
    "\n",
    "# Create the model and add nodes\n",
    "model = MarkovNetwork()\n",
    "model.add_nodes_from(['A', 'B', 'C', 'D', 'E'])\n",
    "\n",
    "# edges\n",
    "model.add_edges_from([('A', 'B'), ('B', 'C'), ('C', 'D'), ('D', 'E'), ('E', 'A')])\n"
   ]
  },
  {
   "cell_type": "code",
   "execution_count": null,
   "id": "715aa8d4",
   "metadata": {},
   "outputs": [
    {
     "name": "stdout",
     "output_type": "stream",
     "text": [
      "MarkovNetwork with 5 nodes and 5 edges\n"
     ]
    }
   ],
   "source": [
    "phi_A_B = DiscreteFactor(['A', 'B'], [2, 2], [1, 50, 50, 1])\n",
    "phi_B_C = DiscreteFactor(['B', 'C'], [2, 2], [1, 100, 100, 1])\n",
    "phi_C_D = DiscreteFactor(['C', 'D'], [2, 2], [1, 30, 30, 1])\n",
    "phi_D_E = DiscreteFactor(['D', 'E'], [2, 2], [1, 20, 20, 1])\n",
    "phi_E_A = DiscreteFactor(['E', 'A'], [2, 2], [1, 10, 10, 1])\n",
    "print(phi_A_B,phi_B_C,phi_C_D,phi_D_E,phi_E_A)\n",
    "\n",
    "# Add factors to model\n",
    "model.add_factors(phi_A_B, phi_B_C, phi_C_D, phi_D_E, phi_E_A)\n",
    "print(model)\n"
   ]
  },
  {
   "cell_type": "code",
   "execution_count": 4,
   "id": "5a639ecc",
   "metadata": {},
   "outputs": [
    {
     "name": "stdout",
     "output_type": "stream",
     "text": [
      "Edges of triangulated chordal graph:\n",
      "[('A', 'B'), ('A', 'E'), ('A', 'D'), ('B', 'C'), ('B', 'D'), ('E', 'D'), ('C', 'D')]\n"
     ]
    }
   ],
   "source": [
    "chordal_graph = model.triangulate()\n",
    "print(\"Edges of triangulated chordal graph:\")\n",
    "print(chordal_graph.edges())\n"
   ]
  },
  {
   "cell_type": "code",
   "execution_count": 5,
   "id": "75fd872b",
   "metadata": {},
   "outputs": [
    {
     "name": "stdout",
     "output_type": "stream",
     "text": [
      "Marginal Distribution of C:\n",
      "+------+----------+\n",
      "| C    |   phi(C) |\n",
      "+======+==========+\n",
      "| C(0) |   0.5000 |\n",
      "+------+----------+\n",
      "| C(1) |   0.5000 |\n",
      "+------+----------+\n"
     ]
    }
   ],
   "source": [
    "from pgmpy.inference import BeliefPropagation\n",
    "\n",
    "bp = BeliefPropagation(model)\n",
    "marginal_C = bp.query(variables=['C'])\n",
    "print(\"Marginal Distribution of C:\")\n",
    "print(marginal_C)\n"
   ]
  },
  {
   "cell_type": "code",
   "execution_count": 6,
   "id": "f5f9a88c",
   "metadata": {},
   "outputs": [
    {
     "name": "stdout",
     "output_type": "stream",
     "text": [
      "MAP Assignment:\n",
      "{'A': 0, 'B': 1, 'C': 0, 'D': 1, 'E': 0}\n"
     ]
    }
   ],
   "source": [
    "map_assignment = bp.map_query(variables=['A', 'B', 'C', 'D', 'E'])\n",
    "print(\"MAP Assignment:\")\n",
    "print(map_assignment)\n"
   ]
  },
  {
   "cell_type": "code",
   "execution_count": 7,
   "id": "c0fc83a5",
   "metadata": {},
   "outputs": [
    {
     "name": "stdout",
     "output_type": "stream",
     "text": [
      "New Marginal Distribution of C after changing phi_C_D:\n",
      "+------+----------+\n",
      "| C    |   phi(C) |\n",
      "+======+==========+\n",
      "| C(0) |   0.5000 |\n",
      "+------+----------+\n",
      "| C(1) |   0.5000 |\n",
      "+------+----------+\n",
      "New MAP Assignment after changing phi_C_D:\n",
      "{'A': 0, 'B': 1, 'C': 0, 'D': 0, 'E': 1}\n"
     ]
    }
   ],
   "source": [
    "# Step 1: Remove old factor (optional)\n",
    "# Recreate the model to avoid duplicates\n",
    "model = MarkovNetwork()\n",
    "model.add_nodes_from(['A', 'B', 'C', 'D', 'E'])\n",
    "model.add_edges_from([('A', 'B'), ('B', 'C'), ('C', 'D'), ('D', 'E'), ('E', 'A')])\n",
    "\n",
    "# Step 2: Redefine the factors with modified phi_C_D\n",
    "phi_A_B = DiscreteFactor(['A', 'B'], [2, 2], [1, 50, 50, 1])\n",
    "phi_B_C = DiscreteFactor(['B', 'C'], [2, 2], [1, 100, 100, 1])\n",
    "phi_C_D_new = DiscreteFactor(['C', 'D'], [2, 2], [100, 1, 1, 100])  # changed\n",
    "phi_D_E = DiscreteFactor(['D', 'E'], [2, 2], [1, 20, 20, 1])\n",
    "phi_E_A = DiscreteFactor(['E', 'A'], [2, 2], [1, 10, 10, 1])\n",
    "\n",
    "# Step 3: Add updated factors\n",
    "model.add_factors(phi_A_B, phi_B_C, phi_C_D_new, phi_D_E, phi_E_A)\n",
    "\n",
    "# Step 4: Inference\n",
    "bp = BeliefPropagation(model)\n",
    "\n",
    "# Re-run marginal inference\n",
    "marginal_C_new = bp.query(variables=['C'])\n",
    "print(\"New Marginal Distribution of C after changing phi_C_D:\")\n",
    "print(marginal_C_new)\n",
    "\n",
    "# Re-run MAP inference\n",
    "map_assignment_new = bp.map_query(variables=['A', 'B', 'C', 'D', 'E'])\n",
    "print(\"New MAP Assignment after changing phi_C_D:\")\n",
    "print(map_assignment_new)\n"
   ]
  }
 ],
 "metadata": {
  "kernelspec": {
   "display_name": "medical_bayes",
   "language": "python",
   "name": "medical_bayes"
  },
  "language_info": {
   "codemirror_mode": {
    "name": "ipython",
    "version": 3
   },
   "file_extension": ".py",
   "mimetype": "text/x-python",
   "name": "python",
   "nbconvert_exporter": "python",
   "pygments_lexer": "ipython3",
   "version": "3.11.12"
  }
 },
 "nbformat": 4,
 "nbformat_minor": 5
}
